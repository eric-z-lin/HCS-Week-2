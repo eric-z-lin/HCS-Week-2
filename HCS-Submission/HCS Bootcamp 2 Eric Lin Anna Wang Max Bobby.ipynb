{
 "cells": [
  {
   "cell_type": "code",
   "execution_count": 62,
   "metadata": {
    "collapsed": true
   },
   "outputs": [],
   "source": [
    "# Eric Lin, Anna Wang, Max Bobby"
   ]
  },
  {
   "cell_type": "code",
   "execution_count": 107,
   "metadata": {
    "collapsed": true
   },
   "outputs": [],
   "source": [
    "import json\n",
    "import pandas as pd\n",
    "from sklearn import neighbors, datasets\n",
    "from sklearn.cluster import KMeans\n",
    "from sklearn.neighbors import KNeighborsClassifier\n",
    "import matplotlib.pyplot as plt\n",
    "from matplotlib.lines import Line2D\n",
    "from matplotlib.colors import ListedColormap\n",
    "import numpy as np"
   ]
  },
  {
   "cell_type": "code",
   "execution_count": 108,
   "metadata": {},
   "outputs": [],
   "source": [
    "n_neighbors = 15"
   ]
  },
  {
   "cell_type": "code",
   "execution_count": 109,
   "metadata": {},
   "outputs": [
    {
     "ename": "FileNotFoundError",
     "evalue": "[Errno 2] No such file or directory: '/anaconda3/lib/python3.7/site-packages/sklearn/datasets/data/iris.csv'",
     "output_type": "error",
     "traceback": [
      "\u001b[0;31m---------------------------------------------------------------------------\u001b[0m",
      "\u001b[0;31mFileNotFoundError\u001b[0m                         Traceback (most recent call last)",
      "\u001b[0;32m<ipython-input-109-6a1ee15102d9>\u001b[0m in \u001b[0;36m<module>\u001b[0;34m()\u001b[0m\n\u001b[1;32m      1\u001b[0m \u001b[0;31m# import some data to play with\u001b[0m\u001b[0;34m\u001b[0m\u001b[0;34m\u001b[0m\u001b[0m\n\u001b[0;32m----> 2\u001b[0;31m \u001b[0miris\u001b[0m \u001b[0;34m=\u001b[0m \u001b[0mdatasets\u001b[0m\u001b[0;34m.\u001b[0m\u001b[0mload_iris\u001b[0m\u001b[0;34m(\u001b[0m\u001b[0;34m)\u001b[0m\u001b[0;34m\u001b[0m\u001b[0m\n\u001b[0m\u001b[1;32m      3\u001b[0m \u001b[0;34m\u001b[0m\u001b[0m\n\u001b[1;32m      4\u001b[0m \u001b[0;31m# we only take the first two features. We could avoid this ugly\u001b[0m\u001b[0;34m\u001b[0m\u001b[0;34m\u001b[0m\u001b[0m\n\u001b[1;32m      5\u001b[0m \u001b[0;31m# slicing by using a two-dim dataset\u001b[0m\u001b[0;34m\u001b[0m\u001b[0;34m\u001b[0m\u001b[0m\n",
      "\u001b[0;32m/anaconda3/lib/python3.7/site-packages/sklearn/datasets/base.py\u001b[0m in \u001b[0;36mload_iris\u001b[0;34m(return_X_y)\u001b[0m\n",
      "\u001b[0;32m/anaconda3/lib/python3.7/site-packages/sklearn/datasets/base.py\u001b[0m in \u001b[0;36mload_data\u001b[0;34m(module_path, data_file_name)\u001b[0m\n",
      "\u001b[0;31mFileNotFoundError\u001b[0m: [Errno 2] No such file or directory: '/anaconda3/lib/python3.7/site-packages/sklearn/datasets/data/iris.csv'"
     ]
    }
   ],
   "source": [
    "# import some data to play with\n",
    "iris = datasets.load_iris()\n",
    "\n",
    "# we only take the first two features. We could avoid this ugly\n",
    "# slicing by using a two-dim dataset\n",
    "X = iris.data[:, :2]\n",
    "y = iris.target\n",
    "print(X)\n",
    "\n",
    "h = .02  # step size in the mesh\n",
    "\n",
    "# Create color maps\n",
    "cmap_light = ListedColormap(['#FFAAAA', '#AAFFAA', '#AAAAFF'])\n",
    "cmap_bold = ListedColormap(['#FF0000', '#00FF00', '#0000FF'])\n",
    "\n",
    "for weights in ['uniform', 'distance']:\n",
    "    # we create an instance of Neighbours Classifier and fit the data.\n",
    "    clf = neighbors.KNeighborsClassifier(n_neighbors, weights=weights)\n",
    "    clf.fit(X, y)\n",
    "\n",
    "    # Plot the decision boundary. For that, we will assign a color to each\n",
    "    # point in the mesh [x_min, x_max]x[y_min, y_max].\n",
    "    x_min, x_max = X[:, 0].min() - 1, X[:, 0].max() + 1\n",
    "    y_min, y_max = X[:, 1].min() - 1, X[:, 1].max() + 1\n",
    "    xx, yy = np.meshgrid(np.arange(x_min, x_max, h),\n",
    "                         np.arange(y_min, y_max, h))\n",
    "    Z = clf.predict(np.c_[xx.ravel(), yy.ravel()])\n",
    "\n",
    "    # Put the result into a color plot\n",
    "    Z = Z.reshape(xx.shape)\n",
    "    plt.figure()\n",
    "    plt.pcolormesh(xx, yy, Z, cmap=cmap_light)\n",
    "\n",
    "    # Plot also the training points\n",
    "    plt.scatter(X[:, 0], X[:, 1], c=y, cmap=cmap_bold,\n",
    "                edgecolor='k', s=20)\n",
    "    plt.xlim(xx.min(), xx.max())\n",
    "    plt.ylim(yy.min(), yy.max())\n",
    "    plt.title(\"3-Class classification (k = %i, weights = '%s')\"\n",
    "              % (n_neighbors, weights))\n",
    "\n",
    "plt.show()"
   ]
  },
  {
   "cell_type": "code",
   "execution_count": 110,
   "metadata": {},
   "outputs": [
    {
     "name": "stdout",
     "output_type": "stream",
     "text": [
      "4.0 2390\n",
      "3.76 2300\n",
      "3.92 2250\n",
      "3.95 2200\n",
      "3.88 2350\n",
      "3.7 2300\n",
      "3.98 2100\n",
      "3.86 2120\n",
      "3.95 2350\n",
      "3.75 2220\n",
      "0\n"
     ]
    }
   ],
   "source": [
    "f_test = open(\"Homework test data.txt\", \"r\")\n",
    "print(f_test.read())\n",
    "i = 0\n",
    "for line in f_test.readlines():\n",
    "    i += 1\n",
    "print(i)"
   ]
  },
  {
   "cell_type": "code",
   "execution_count": 111,
   "metadata": {},
   "outputs": [],
   "source": [
    "# Loading in Training Set\n",
    "training_data = []      # 2-D list\n",
    "training_target = []    # 1-D list\n",
    "with open('Homework training data.txt') as fp:\n",
    "    for line in iter(fp.readline, ''):\n",
    "        parsed_line = line.strip().split(' ')\n",
    "        training_target.append(parsed_line[0])\n",
    "        training_data.append(parsed_line[1:])\n"
   ]
  },
  {
   "cell_type": "code",
   "execution_count": 112,
   "metadata": {},
   "outputs": [
    {
     "data": {
      "text/plain": [
       "KNeighborsClassifier(algorithm='auto', leaf_size=30, metric='minkowski',\n",
       "           metric_params=None, n_jobs=1, n_neighbors=3, p=2,\n",
       "           weights='uniform')"
      ]
     },
     "execution_count": 112,
     "metadata": {},
     "output_type": "execute_result"
    }
   ],
   "source": [
    "# Fitting with KNeighborsClassifier\n",
    "neigh = KNeighborsClassifier(n_neighbors=3)\n",
    "neigh.fit(training_data, training_target)\n"
   ]
  },
  {
   "cell_type": "code",
   "execution_count": 113,
   "metadata": {},
   "outputs": [
    {
     "name": "stdout",
     "output_type": "stream",
     "text": [
      "[['4.0', '2390'], ['3.76', '2300'], ['3.92', '2250'], ['3.95', '2200'], ['3.88', '2350'], ['3.7', '2300'], ['3.98', '2100'], ['3.86', '2120'], ['3.95', '2350'], ['3.75', '2220']]\n"
     ]
    }
   ],
   "source": [
    "# Loading in Testing Set\n",
    "testing_data = []      # 2-D list\n",
    "with open('Homework test data.txt') as fp:\n",
    "    for line in iter(fp.readline, ''):\n",
    "        parsed_line = line.strip().split(' ')\n",
    "        testing_data.append(parsed_line)\n",
    "print(testing_data)"
   ]
  },
  {
   "cell_type": "code",
   "execution_count": 114,
   "metadata": {},
   "outputs": [
    {
     "name": "stdout",
     "output_type": "stream",
     "text": [
      "['MIT' 'Caltech' 'Caltech' 'Caltech' 'MIT' 'Caltech' 'Stanford' 'Stanford'\n",
      " 'MIT' 'Caltech']\n",
      "-----Classification Results-----\n",
      "College  \t GPA \t SAT\n",
      "--------------------------------\n",
      "MIT       \t4.0\t2390\n",
      "Caltech       \t3.76\t2300\n",
      "Caltech       \t3.92\t2250\n",
      "Caltech       \t3.95\t2200\n",
      "MIT       \t3.88\t2350\n",
      "Caltech       \t3.7\t2300\n",
      "Stanford       \t3.98\t2100\n",
      "Stanford       \t3.86\t2120\n",
      "MIT       \t3.95\t2350\n",
      "Caltech       \t3.75\t2220\n"
     ]
    }
   ],
   "source": [
    "# Predicting Scores with the test data\n",
    "college_results = neigh.predict(testing_data)\n",
    "print(college_results)\n",
    "print(\"-----Classification Results-----\")\n",
    "print(\"College  \\t GPA \\t SAT\")\n",
    "print(\"--------------------------------\")\n",
    "for i in range(college_results.size):\n",
    "    print(college_results[i], end = \"       \\t\")\n",
    "    print(testing_data[i][0], end = \"\\t\")\n",
    "    print(testing_data[i][1])"
   ]
  },
  {
   "cell_type": "code",
   "execution_count": 142,
   "metadata": {},
   "outputs": [
    {
     "name": "stdout",
     "output_type": "stream",
     "text": [
      "[4.0, 3.76, 3.92, 3.95, 3.88, 3.7, 3.98, 3.86, 3.95, 3.75]\n",
      "[2390, 2300, 2250, 2200, 2350, 2300, 2100, 2120, 2350, 2220]\n"
     ]
    },
    {
     "data": {
      "image/png": "[encoded data removed]",
      "text/plain": [
       "<Figure size 432x288 with 1 Axes>"
      ]
     },
     "metadata": {
      "needs_background": "light"
     },
     "output_type": "display_data"
    }
   ],
   "source": [
    "# Reverse the order\n",
    "gpa_list = []\n",
    "sat_list = []\n",
    "\n",
    "for i in range(len(testing_data)):\n",
    "    gpa_list.append(float(testing_data[i][0]))\n",
    "    sat_list.append(int(testing_data[i][1]))\n",
    "print(gpa_list)\n",
    "print(sat_list)\n",
    "\n",
    "college_results_colors = []\n",
    "for i in range(len(college_results)):\n",
    "    if college_results[i] == 'MIT':\n",
    "        college_results_colors.append(1)\n",
    "    elif college_results[i] == 'Caltech':\n",
    "        college_results_colors.append(2)\n",
    "    else:\n",
    "        college_results_colors.append(3)\n",
    "\n",
    "legend_elements = [Line2D([0], [0], marker='o', color='w', label='MIT',\n",
    "                          markerfacecolor='purple', markersize=7),\n",
    "                   Line2D([0], [0], marker='o', color='w', label='Stanford',\n",
    "                          markerfacecolor='yellow', markersize=7),\n",
    "                   Line2D([0], [0], marker='o', color='w', label='Caltech',\n",
    "                          markerfacecolor='seagreen', markersize=7)]\n",
    "fig, ax = plt.subplots()\n",
    "ax.legend(handles=legend_elements, loc='upper center', bbox_to_anchor=(0.5, -0.09), ncol = 3)\n",
    "\n",
    "\n",
    "# Graphing\n",
    "plt.scatter(gpa_list, sat_list, c = college_results_colors)\n",
    "plt.show()"
   ]
  },
  {
   "cell_type": "code",
   "execution_count": null,
   "metadata": {},
   "outputs": [],
   "source": []
  },
  {
   "cell_type": "code",
   "execution_count": null,
   "metadata": {},
   "outputs": [],
   "source": []
  },
  {
   "cell_type": "code",
   "execution_count": null,
   "metadata": {},
   "outputs": [],
   "source": []
  },
  {
   "cell_type": "code",
   "execution_count": null,
   "metadata": {},
   "outputs": [],
   "source": []
  },
  {
   "cell_type": "code",
   "execution_count": null,
   "metadata": {},
   "outputs": [],
   "source": []
  },
  {
   "cell_type": "code",
   "execution_count": null,
   "metadata": {},
   "outputs": [],
   "source": []
  },
  {
   "cell_type": "code",
   "execution_count": null,
   "metadata": {},
   "outputs": [],
   "source": []
  },
  {
   "cell_type": "code",
   "execution_count": null,
   "metadata": {},
   "outputs": [],
   "source": []
  },
  {
   "cell_type": "code",
   "execution_count": null,
   "metadata": {},
   "outputs": [],
   "source": []
  },
  {
   "cell_type": "code",
   "execution_count": null,
   "metadata": {},
   "outputs": [],
   "source": []
  }
 ],
 "metadata": {
  "kernelspec": {
   "display_name": "Python 3",
   "language": "python",
   "name": "python3"
  },
  "language_info": {
   "codemirror_mode": {
    "name": "ipython",
    "version": 3
   },
   "file_extension": ".py",
   "mimetype": "text/x-python",
   "name": "python",
   "nbconvert_exporter": "python",
   "pygments_lexer": "ipython3",
   "version": "3.6.6"
  }
 },
 "nbformat": 4,
 "nbformat_minor": 2
}
